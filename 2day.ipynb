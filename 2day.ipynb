{
 "cells": [
  {
   "cell_type": "markdown",
   "id": "9b0d11b1",
   "metadata": {},
   "source": [
    "second day :--\n",
    "\n",
    "to check binary value"
   ]
  },
  {
   "cell_type": "code",
   "execution_count": null,
   "id": "0e7e653d",
   "metadata": {},
   "outputs": [
    {
     "name": "stdout",
     "output_type": "stream",
     "text": [
      "0b1000001\n",
      "0x41\n",
      "0o101\n"
     ]
    }
   ],
   "source": [
    "a=65\n",
    "print(bin(a))\n",
    "print(hex(a))\n",
    "print(oct(a))"
   ]
  },
  {
   "cell_type": "markdown",
   "id": "9235c9d5",
   "metadata": {},
   "source": [
    "operator in python:--\n",
    "-------------------\n",
    "\n",
    "1.Arithmatic operator\n",
    "2.Assignment operator\n",
    "3.relational operator\n",
    "4.logical operator\n",
    "5.bitwise operator\n"
   ]
  },
  {
   "cell_type": "markdown",
   "id": "7dc59251",
   "metadata": {},
   "source": [
    "1.arithmatic operator\n",
    "---------------------\n",
    "a.adition +\n",
    "b. subtraction -\n",
    "c. multiplication *\n",
    "d. division /\n",
    "e. modules %\n",
    "d. ** a to power b (**)\n",
    "e. floor division (//)"
   ]
  },
  {
   "cell_type": "code",
   "execution_count": null,
   "id": "49831621",
   "metadata": {},
   "outputs": [
    {
     "name": "stdout",
     "output_type": "stream",
     "text": [
      "addi =  13\n",
      "sub =  5\n",
      "mul =  36\n",
      "divi =  2.25\n",
      "remender =  1\n",
      "a ka power =  6561\n",
      "quotient in integer =  2\n"
     ]
    }
   ],
   "source": [
    "# airthmatic operator\n",
    "a = 9\n",
    "b = 4\n",
    "c = a+b\n",
    "print(\"addi = \", c)\n",
    "c = a-b\n",
    "print(\"sub = \",c)\n",
    "c = a*b\n",
    "print('mul = ',c)\n",
    "c =a/b\n",
    "print('divi = ',c)\n",
    "c = a%b\n",
    "print('remender = ',c)\n",
    "c = a**b\n",
    "print('a ka power = ',c)\n",
    "c = a//b\n",
    "print('quotient in integer = ',c)\n",
    "\n"
   ]
  },
  {
   "cell_type": "code",
   "execution_count": null,
   "id": "902f5a14",
   "metadata": {},
   "outputs": [
    {
     "name": "stdout",
     "output_type": "stream",
     "text": [
      "30\n",
      "25\n",
      "150\n"
     ]
    }
   ],
   "source": [
    "# assigment operator\n",
    "\n",
    "a = 20\n",
    "a+=10 #a= a+b\n",
    "print(a)\n",
    "\n",
    "a-=5\n",
    "print(a)\n",
    "\n",
    "a*=6\n",
    "print(a)"
   ]
  },
  {
   "cell_type": "markdown",
   "id": "48d8bdb4",
   "metadata": {},
   "source": [
    "relational operator:-\n",
    "1.> greater than\n",
    "2.< less than\n",
    "3.>=greather than eqal to\n",
    "4.<= less than equal\n",
    "5.== equal equal to\n",
    "6.!= not equal\n",
    "\n",
    "note:- relational operater alwayes return a boolean data type (true or false)"
   ]
  },
  {
   "cell_type": "code",
   "execution_count": 19,
   "id": "13f4fba2",
   "metadata": {},
   "outputs": [
    {
     "name": "stdout",
     "output_type": "stream",
     "text": [
      "1\n",
      "True\n",
      "False\n",
      "False\n",
      "False\n",
      "True\n"
     ]
    }
   ],
   "source": [
    "#relational operator:--\n",
    "\n",
    "a = 20\n",
    "b = 12\n",
    "c = a>b\n",
    "print(int(c))\n",
    "\n",
    "c = a>=b\n",
    "print(c)\n",
    "\n",
    "c = a<b\n",
    "print(c)\n",
    "\n",
    "c = a<=b\n",
    "print(c)\n",
    "\n",
    "c = a==b\n",
    "print(c)\n",
    "\n",
    "c = a!=b\n",
    "print(c)"
   ]
  },
  {
   "cell_type": "markdown",
   "id": "f66936bf",
   "metadata": {},
   "source": [
    "Logical operator:--\n",
    "------------------\n",
    "1. and operator (||)\n",
    "2. or operator (&&)\n",
    "3. nor operator (!)"
   ]
  },
  {
   "cell_type": "code",
   "execution_count": null,
   "id": "91afed54",
   "metadata": {},
   "outputs": [
    {
     "name": "stdout",
     "output_type": "stream",
     "text": [
      "True\n"
     ]
    }
   ],
   "source": [
    "# and operator:-\n",
    "x = 5\n",
    "print(x > 3 and x < 10)  # True, because both are true &&\n"
   ]
  },
  {
   "cell_type": "code",
   "execution_count": null,
   "id": "9218030b",
   "metadata": {},
   "outputs": [
    {
     "name": "stdout",
     "output_type": "stream",
     "text": [
      "True\n"
     ]
    }
   ],
   "source": [
    "# or operator:-\n",
    "x = 5\n",
    "print(x > 3 or x < 4)  # True, because the first is true ||\n",
    "\n"
   ]
  },
  {
   "cell_type": "code",
   "execution_count": null,
   "id": "5d1b555b",
   "metadata": {},
   "outputs": [
    {
     "name": "stdout",
     "output_type": "stream",
     "text": [
      "False\n"
     ]
    }
   ],
   "source": [
    "# not operator :-\n",
    "x = 5\n",
    "print(not(x > 3 and x < 10))  # False, because (x > 3 and x < 10) is True !\n"
   ]
  }
 ],
 "metadata": {
  "kernelspec": {
   "display_name": "Python 3",
   "language": "python",
   "name": "python3"
  },
  "language_info": {
   "codemirror_mode": {
    "name": "ipython",
    "version": 3
   },
   "file_extension": ".py",
   "mimetype": "text/x-python",
   "name": "python",
   "nbconvert_exporter": "python",
   "pygments_lexer": "ipython3",
   "version": "3.13.7"
  }
 },
 "nbformat": 4,
 "nbformat_minor": 5
}
