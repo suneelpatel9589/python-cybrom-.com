{
 "cells": [
  {
   "cell_type": "markdown",
   "id": "e4546e09",
   "metadata": {},
   "source": [
    "nested while loop :--\n",
    "--------------------\n",
    "\n",
    "when we execute a while loop inside another while loop this is called nested while  loop."
   ]
  },
  {
   "cell_type": "code",
   "execution_count": 2,
   "id": "3caa9a78",
   "metadata": {},
   "outputs": [
    {
     "name": "stdout",
     "output_type": "stream",
     "text": [
      "* * * * * \n",
      "* * * * * \n",
      "* * * * * \n",
      "* * * * * \n",
      "* * * * * \n"
     ]
    }
   ],
   "source": [
    "i =1\n",
    "while(i<=5):#outer loop coloum\n",
    "    j =1\n",
    "    while(j<=5):#inner loop row\n",
    "        print('*',end=\" \")\n",
    "        j+=1\n",
    "    i+=1\n",
    "    print()    "
   ]
  },
  {
   "cell_type": "markdown",
   "id": "c63f70d4",
   "metadata": {},
   "source": [
    "wap to take  2 input from the user after the input of second find all the palendrome number of first input digit."
   ]
  },
  {
   "cell_type": "code",
   "execution_count": 13,
   "id": "4209581e",
   "metadata": {},
   "outputs": [
    {
     "name": "stdout",
     "output_type": "stream",
     "text": [
      "101\n",
      "111\n",
      "121\n",
      "131\n",
      "141\n",
      "151\n",
      "161\n",
      "171\n",
      "181\n",
      "191\n"
     ]
    }
   ],
   "source": [
    "n1= int(input('enter a first number'))\n",
    "n2 = int(input('enter a second number'))\n",
    "n3 = n2+1\n",
    "i = 1\n",
    "while(i<=n1):\n",
    "    temp =n3\n",
    "    ans = 0\n",
    "    while(temp>0):\n",
    "        r=temp%10\n",
    "        ans=ans*10+r\n",
    "        temp=temp//10\n",
    "    if(ans==n3):\n",
    "        print(ans)\n",
    "        i+=1\n",
    "    n3+=1    "
   ]
  },
  {
   "cell_type": "code",
   "execution_count": 3,
   "id": "064f1a48",
   "metadata": {},
   "outputs": [
    {
     "name": "stdout",
     "output_type": "stream",
     "text": [
      "Prime: 11\n",
      "Prime: 13\n",
      "Prime: 17\n",
      "Prime: 19\n",
      "Prime: 23\n",
      "Prime: 29\n",
      "Prime: 31\n",
      "Prime: 37\n",
      "Prime: 41\n",
      "Prime: 43\n",
      "Prime: 47\n"
     ]
    }
   ],
   "source": [
    "\n",
    "\n",
    "n1 = int(input(\"Enter the first number: \"))\n",
    "n2 = int(input(\"Enter the second number: \"))\n",
    "i = n1 + 1\n",
    "while (i <= n2):   # while condition in brackets\n",
    "    j = 1\n",
    "    count = 0\n",
    "\n",
    "    while (j <= i):   # inner while with brackets\n",
    "        if (i % j == 0):   # if with brackets\n",
    "            count += 1\n",
    "        j += 1\n",
    "\n",
    "    if (count == 2):   # if condition in brackets\n",
    "        print(\"Prime:\", i)\n",
    "\n",
    "    i += 1\n",
    "\n"
   ]
  },
  {
   "cell_type": "code",
   "execution_count": 15,
   "id": "3da9c67f",
   "metadata": {},
   "outputs": [
    {
     "name": "stdout",
     "output_type": "stream",
     "text": [
      "1 \n",
      "1 2 \n",
      "1 2 3 \n",
      "1 2 3 4 \n",
      "1 2 3 4 5 \n"
     ]
    }
   ],
   "source": [
    "i=1\n",
    "while(i<=5):\n",
    "    j=1\n",
    "    while(j<=i):\n",
    "        print(j,end=\" \")\n",
    "        j+=1\n",
    "    i+=1\n",
    "    print()    "
   ]
  },
  {
   "cell_type": "code",
   "execution_count": 5,
   "id": "6ae1e055",
   "metadata": {},
   "outputs": [
    {
     "name": "stdout",
     "output_type": "stream",
     "text": [
      "1 \n",
      "2 2 \n",
      "3 3 3 \n",
      "4 4 4 4 \n",
      "5 5 5 5 5 \n"
     ]
    }
   ],
   "source": [
    "i=1\n",
    "while(i<=5):\n",
    "    j=1\n",
    "    while(j<=i):\n",
    "        print(i,end=\" \")\n",
    "        j+=1\n",
    "    i+=1\n",
    "    print()    "
   ]
  },
  {
   "cell_type": "code",
   "execution_count": 17,
   "id": "5a79e332",
   "metadata": {},
   "outputs": [
    {
     "name": "stdout",
     "output_type": "stream",
     "text": [
      "A \n",
      "A A \n",
      "A A A \n",
      "A A A A \n",
      "A A A A A \n"
     ]
    }
   ],
   "source": [
    "i=1\n",
    "x =65\n",
    "while(i<=5):\n",
    "    j=1\n",
    "    while(j<=i):\n",
    "        print(chr(x),end=\" \")\n",
    "        j+=1\n",
    "    i+=1\n",
    "    print()    "
   ]
  },
  {
   "cell_type": "code",
   "execution_count": 18,
   "id": "89e08481",
   "metadata": {},
   "outputs": [
    {
     "name": "stdout",
     "output_type": "stream",
     "text": [
      "A \n",
      "B C \n",
      "D E F \n",
      "G H I J \n",
      "K L M N O \n"
     ]
    }
   ],
   "source": [
    "i=1\n",
    "x =65\n",
    "while(i<=5):\n",
    "    j=1\n",
    "    while(j<=i):\n",
    "        print(chr(x),end=\" \")\n",
    "        x+=1\n",
    "        j+=1\n",
    "    i+=1\n",
    "    print()    "
   ]
  },
  {
   "cell_type": "code",
   "execution_count": 11,
   "id": "212727a2",
   "metadata": {},
   "outputs": [
    {
     "name": "stdout",
     "output_type": "stream",
     "text": [
      "\n",
      "   press 1 for prime check\n",
      "   press 2 for  armstrong\n",
      "   press 3 for pelendrome \n",
      "   press 4 for exit program           \n",
      "\n",
      "\n",
      "\n",
      "choice is 1\n",
      "not prime\n",
      "\n",
      "   press 1 for prime check\n",
      "   press 2 for  armstrong\n",
      "   press 3 for pelendrome \n",
      "   press 4 for exit program           \n",
      "\n",
      "\n",
      "\n",
      "choice is 1\n",
      "prime\n",
      "\n",
      "   press 1 for prime check\n",
      "   press 2 for  armstrong\n",
      "   press 3 for pelendrome \n",
      "   press 4 for exit program           \n",
      "\n",
      "\n",
      "\n",
      "exit\n"
     ]
    }
   ],
   "source": [
    "#choice based\n",
    "\n",
    "while(True):\n",
    "   print('''\n",
    "   press 1 for prime check\n",
    "   press 2 for  armstrong\n",
    "   press 3 for pelendrome \n",
    "   press 4 for exit program           \n",
    "          \n",
    "\n",
    "''')\n",
    "   ch = int(input('enter the choice:'))\n",
    "   if(ch==1):\n",
    "      print('choice is 1')\n",
    "      n=int(input('enter the number:'))\n",
    "      count=0\n",
    "      i=1\n",
    "      while(i<=n):\n",
    "         if(n%i==0):\n",
    "            count+=1\n",
    "         i+=1\n",
    "      if(count==2):\n",
    "         print('prime')\n",
    "      else:\n",
    "         print(\"not prime\") \n",
    "\n",
    "   elif(ch==2):\n",
    "      print('choice is 2')\n",
    "   elif(ch==3):\n",
    "      print('choice is 3')\n",
    "   elif(ch==4):\n",
    "      print('exit')\n",
    "      break\n",
    "   else:\n",
    "      print('invaild choice')\n",
    "\n",
    "\n"
   ]
  }
 ],
 "metadata": {
  "kernelspec": {
   "display_name": "Python 3",
   "language": "python",
   "name": "python3"
  },
  "language_info": {
   "codemirror_mode": {
    "name": "ipython",
    "version": 3
   },
   "file_extension": ".py",
   "mimetype": "text/x-python",
   "name": "python",
   "nbconvert_exporter": "python",
   "pygments_lexer": "ipython3",
   "version": "3.13.7"
  }
 },
 "nbformat": 4,
 "nbformat_minor": 5
}
