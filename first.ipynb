{
 "cells": [
  {
   "cell_type": "markdown",
   "id": "8ee1c461",
   "metadata": {},
   "source": [
    "first class my python class by chanchal sir"
   ]
  },
  {
   "cell_type": "code",
   "execution_count": 1,
   "id": "75dcf27e",
   "metadata": {},
   "outputs": [
    {
     "name": "stdout",
     "output_type": "stream",
     "text": [
      "hello\n"
     ]
    }
   ],
   "source": [
    "print('hello')"
   ]
  },
  {
   "cell_type": "markdown",
   "id": "e19eed0d",
   "metadata": {},
   "source": [
    "DATA TYPE IN PYTHON:- collecton of value\n",
    "---------------------------\n",
    "\n",
    "1. Fundamental data type:\n",
    "\n",
    "a. int  integer\n",
    "b. float decimal value\n",
    "c. string collection of character\n",
    "d. boolean true or false\n",
    "e. complex real and imanginary\n",
    "\n",
    "2.sequential data type:-\n",
    "------------------------\n",
    "1. list\n",
    "2. tuple\n",
    "3. set\n",
    "4. frozenset\n",
    "5. dictionary\n",
    "\n",
    "\n",
    "variable :-\n",
    "----------\n",
    "variable iss just like a container in which we can store a data.\n",
    "\n",
    "Variable Naming Rules in Python:-\n",
    "------------------------------\n",
    "\n",
    "1. 1x=12  wrong\n",
    "2. @x=34  wrong\n",
    "3. x y=23 worng\n",
    "4. x@=13  wrong\n",
    "5. x1=100 correct\n",
    "6. x_y=89 correct\n",
    "\n",
    "python is a case sensitive.\n",
    "x and are two others.\n",
    "\n"
   ]
  },
  {
   "cell_type": "code",
   "execution_count": null,
   "id": "a182227b",
   "metadata": {},
   "outputs": [
    {
     "name": "stdout",
     "output_type": "stream",
     "text": [
      "<class 'int'>\n",
      "A\n",
      "140722251526112\n",
      "140722251524576\n"
     ]
    }
   ],
   "source": [
    "a = 10\n",
    "print(type(a))  #varriable type pta karne ke liye\n",
    "\n",
    "x = 65\n",
    "print(chr(x))  #stirng value \n",
    "\n",
    "y = 'a'\n",
    "print(id(y))  # memory adress ke liye\n",
    "\n",
    "y ='A'\n",
    "print(id(y))\n",
    " \n",
    "\n",
    "\n"
   ]
  }
 ],
 "metadata": {
  "kernelspec": {
   "display_name": "Python 3",
   "language": "python",
   "name": "python3"
  },
  "language_info": {
   "codemirror_mode": {
    "name": "ipython",
    "version": 3
   },
   "file_extension": ".py",
   "mimetype": "text/x-python",
   "name": "python",
   "nbconvert_exporter": "python",
   "pygments_lexer": "ipython3",
   "version": "3.13.7"
  }
 },
 "nbformat": 4,
 "nbformat_minor": 5
}
