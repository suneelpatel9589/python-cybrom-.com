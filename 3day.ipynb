{
 "cells": [
  {
   "cell_type": "markdown",
   "id": "e3458989",
   "metadata": {},
   "source": [
    "conditional statement :----\n",
    "---------------------\n",
    "\n",
    "if else an "
   ]
  },
  {
   "cell_type": "code",
   "execution_count": 2,
   "id": "27936e51",
   "metadata": {},
   "outputs": [
    {
     "name": "stdout",
     "output_type": "stream",
     "text": [
      "if block\n"
     ]
    }
   ],
   "source": [
    "if(12):\n",
    "    print('if block')\n",
    "else:\n",
    "    print('else block')    "
   ]
  },
  {
   "cell_type": "code",
   "execution_count": null,
   "id": "970a5379",
   "metadata": {},
   "outputs": [
    {
     "name": "stdout",
     "output_type": "stream",
     "text": [
      "True\n",
      "rain nhi hui\n"
     ]
    }
   ],
   "source": [
    "x=123\n",
    "print(bool(x))\n",
    "\n",
    "kal = 'rain'\n",
    "if(kal=='rain'):\n",
    "    print('rain ho gai')\n",
    "else:\n",
    "    print('rain nhi hui')"
   ]
  },
  {
   "cell_type": "markdown",
   "id": "3270388a",
   "metadata": {},
   "source": [
    "How to take input from user in runtime:-\n",
    "-------------------------------------\n",
    "pre-define input() method."
   ]
  },
  {
   "cell_type": "code",
   "execution_count": 10,
   "id": "0bea1b44",
   "metadata": {},
   "outputs": [
    {
     "name": "stdout",
     "output_type": "stream",
     "text": [
      "<class 'float'>\n",
      "24.4\n"
     ]
    }
   ],
   "source": [
    "x = float(input('enter the value of x:'))\n",
    "y = float(input('enter the value of y:'))\n",
    "\n",
    "print(type(x))\n",
    "print(x+y)"
   ]
  }
 ],
 "metadata": {
  "kernelspec": {
   "display_name": "Python 3",
   "language": "python",
   "name": "python3"
  },
  "language_info": {
   "codemirror_mode": {
    "name": "ipython",
    "version": 3
   },
   "file_extension": ".py",
   "mimetype": "text/x-python",
   "name": "python",
   "nbconvert_exporter": "python",
   "pygments_lexer": "ipython3",
   "version": "3.13.7"
  }
 },
 "nbformat": 4,
 "nbformat_minor": 5
}
