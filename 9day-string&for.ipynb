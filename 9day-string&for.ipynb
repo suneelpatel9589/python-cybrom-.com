{
 "cells": [
  {
   "cell_type": "markdown",
   "id": "7c08a521",
   "metadata": {},
   "source": [
    "string:- collection of character"
   ]
  },
  {
   "cell_type": "code",
   "execution_count": 4,
   "id": "e8168aef",
   "metadata": {},
   "outputs": [
    {
     "name": "stdout",
     "output_type": "stream",
     "text": [
      "<class 'str'>\n",
      "hii ia am from bhopal\n",
      "\n",
      "fgfdfghgf\n",
      "                fggfghgfghg\n",
      "                xcvcxzxcvc\n",
      "  \n"
     ]
    }
   ],
   "source": [
    "str1 = 'hello'\n",
    "print(type(str1))\n",
    "\n",
    "str2 = \"hii ia am from bhopal\"\n",
    "print(str2)\n",
    "\n",
    "str3 = '''\n",
    "fgfdfghgf\n",
    "                fggfghgfghg\n",
    "                xcvcxzxcvc\n",
    "  '''   \n",
    "print(str3)           "
   ]
  },
  {
   "cell_type": "markdown",
   "id": "a4b91588",
   "metadata": {},
   "source": [
    "slice is used in string"
   ]
  },
  {
   "cell_type": "code",
   "execution_count": 15,
   "id": "70eb7f77",
   "metadata": {},
   "outputs": [
    {
     "name": "stdout",
     "output_type": "stream",
     "text": [
      "w\n",
      "7\n",
      "e\n"
     ]
    }
   ],
   "source": [
    "str1 = \"welcome\"\n",
    "print(str1[0])\n",
    "print(len(str1))\n",
    "x= len(str1)\n",
    "print(str1[x-1])"
   ]
  },
  {
   "cell_type": "code",
   "execution_count": null,
   "id": "946636a3",
   "metadata": {},
   "outputs": [
    {
     "name": "stdout",
     "output_type": "stream",
     "text": [
      "1\n",
      "1234\n",
      "135\n",
      "7654321\n"
     ]
    }
   ],
   "source": [
    "str1 = str(1234567)#indexing value  slice in string\n",
    "print(str1[-7])\n",
    "print(str1[0:4])\n",
    "print(str1[0:5:2])\n",
    "print(str1[::-1])"
   ]
  },
  {
   "cell_type": "markdown",
   "id": "22508bab",
   "metadata": {},
   "source": [
    "add string "
   ]
  },
  {
   "cell_type": "code",
   "execution_count": 18,
   "id": "c0c88215",
   "metadata": {},
   "outputs": [
    {
     "name": "stdout",
     "output_type": "stream",
     "text": [
      "hello bhopal\n"
     ]
    }
   ],
   "source": [
    "str1 = 'hello'\n",
    "str2 = 'bhopal'\n",
    "str3 = str1+\" \"+str2\n",
    "print(str3)"
   ]
  }
 ],
 "metadata": {
  "kernelspec": {
   "display_name": "Python 3",
   "language": "python",
   "name": "python3"
  },
  "language_info": {
   "codemirror_mode": {
    "name": "ipython",
    "version": 3
   },
   "file_extension": ".py",
   "mimetype": "text/x-python",
   "name": "python",
   "nbconvert_exporter": "python",
   "pygments_lexer": "ipython3",
   "version": "3.13.7"
  }
 },
 "nbformat": 4,
 "nbformat_minor": 5
}
