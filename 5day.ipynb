{
 "cells": [
  {
   "cell_type": "markdown",
   "id": "cae5ebed",
   "metadata": {},
   "source": [
    "\n",
    "logical operator:----"
   ]
  },
  {
   "cell_type": "code",
   "execution_count": 7,
   "id": "ac4ceb38",
   "metadata": {},
   "outputs": [
    {
     "name": "stdout",
     "output_type": "stream",
     "text": [
      "hii\n"
     ]
    }
   ],
   "source": [
    "if(not 0):\n",
    "    print('hii')\n",
    "else:\n",
    "    print('hello')"
   ]
  },
  {
   "cell_type": "markdown",
   "id": "5f8f27c1",
   "metadata": {},
   "source": [
    "wap to find  maximum value form three number"
   ]
  },
  {
   "cell_type": "code",
   "execution_count": 20,
   "id": "3b14dd5c",
   "metadata": {},
   "outputs": [
    {
     "name": "stdout",
     "output_type": "stream",
     "text": [
      "a is maximum\n"
     ]
    }
   ],
   "source": [
    "a = 234\n",
    "b = 28\n",
    "c = 89\n",
    "\n",
    "if(a>b and a>c):\n",
    "    print('a is maximum') \n",
    "elif(b<a and b<c) :\n",
    "    print('c is maximum')\n",
    "else:\n",
    "    print('b is maximum')"
   ]
  },
  {
   "cell_type": "markdown",
   "id": "befdc80d",
   "metadata": {},
   "source": [
    "wap to generate the result of a student in three subject using below conditions:-\n",
    "------------------------------------------------------------------------------\n",
    "1.marks should be between 0 to 100 both are inclusive.\n",
    "2.student fail if fail in one subject ,passing marks is 33.\n",
    "3.also show there result in proper way in 1st, 2nd and 3rd division with total marks and\n",
    "percentage.\n",
    "\n",
    "note:- "
   ]
  },
  {
   "cell_type": "code",
   "execution_count": 21,
   "id": "4701b8a9",
   "metadata": {},
   "outputs": [
    {
     "name": "stdout",
     "output_type": "stream",
     "text": [
      "fail in all subjects\n",
      "phy=32.0 che=32.0 math=32.0 total_marks=96.0 percentage=32.0\n"
     ]
    }
   ],
   "source": [
    "p = float(input('enter the phy number: '))\n",
    "c = float(input('enter the che marks: '))\n",
    "m = float(input('enter the math marks: '))\n",
    "\n",
    "total_marks = p + c + m\n",
    "per = total_marks / 3\n",
    "\n",
    "if (p < 0 or c < 0 or m < 0 or p > 100 or c > 100 or m > 100):\n",
    "    print('invalid marks')\n",
    "    print(f'phy={p} che={c} math={m}')\n",
    "\n",
    "elif (p < 33 and c >= 33 and m >= 33) or (p >= 33 and c < 33 and m >= 33) or (p >= 33 and c >= 33 and m < 33):\n",
    "    if (p < 33 and c >= 33 and m >= 33):\n",
    "        print('fail in phy')\n",
    "        print(f'phy={p} che={c} math={m} total_marks={total_marks} percentage={per}')\n",
    "    elif (p >= 33 and c < 33 and m >= 33):\n",
    "        print('fail in che')\n",
    "        print(f'phy={p} che={c} math={m} total_marks={total_marks} percentage={per}')\n",
    "    elif (p >= 33 and c >= 33 and m < 33):\n",
    "        print('fail in math')\n",
    "        print(f'phy={p} che={c} math={m} total_marks={total_marks} percentage={per}')\n",
    "    else:\n",
    "        print('failed')\n",
    "\n",
    "elif (p < 33 and c < 33 and m >= 33) or (p >= 33 and c < 33 and m < 33) or (p < 33 and c >= 33 and m < 33):\n",
    "    if (p < 33 and c < 33 and m >= 33):\n",
    "        print('fail in phy and che')\n",
    "        print(f'phy={p} che={c} math={m} total_marks={total_marks} percentage={per}')\n",
    "    elif (p >= 33 and c < 33 and m < 33):\n",
    "        print('fail in che and math')\n",
    "        print(f'phy={p} che={c} math={m} total_marks={total_marks} percentage={per}')\n",
    "    elif (p < 33 and c >= 33 and m < 33):\n",
    "        print('fail in math and phy')\n",
    "        print(f'phy={p} che={c} math={m} total_marks={total_marks} percentage={per}')\n",
    "    else:\n",
    "        print('failed')\n",
    "\n",
    "elif (p < 33 and c < 33 and m < 33):\n",
    "    print('fail in all subjects')\n",
    "    print(f'phy={p} che={c} math={m} total_marks={total_marks} percentage={per}')\n",
    "\n",
    "else:\n",
    "    if per >= 60:\n",
    "        print('first division')\n",
    "    elif per >= 45:\n",
    "        print('second division')\n",
    "    else:\n",
    "        print('third division')\n",
    "    print(f'phy={p} che={c} math={m} total_marks={total_marks} percentage={per}')\n",
    " "
   ]
  },
  {
   "cell_type": "code",
   "execution_count": 22,
   "id": "0786e40d",
   "metadata": {},
   "outputs": [
    {
     "name": "stdout",
     "output_type": "stream",
     "text": [
      "total marks: 187.0\n",
      "percentage 37.4\n",
      "failed\n"
     ]
    }
   ],
   "source": [
    "h = float(input('enter a hindi marks :'))\n",
    "e = float(input('enter a english marks :'))\n",
    "m = float(input('enter a math marks :'))\n",
    "s = float(input('enter a science marks :'))\n",
    "so = float(input('enter a social sc. marks :'))\n",
    "\n",
    "total_marks = h+e+m+s+so\n",
    "print( 'total marks:', total_marks)\n",
    "per = total_marks/5\n",
    "print( 'percentage', per)\n",
    "if(h < 33 or e < 33 or m < 33 or s < 33 or so < 33):\n",
    "    print('failed')\n",
    "elif(per>=60):\n",
    "    print('GRADE - A')\n",
    "    print(f'hi={h} eng={e} math={m} science={s} social={so} total_marks={total_marks} percentage={per}')\n",
    "elif(per>=45):\n",
    "    print('GRADE - B')\n",
    "    print(f'hi={h} eng={e} math={m} science={s} social={so} total_marks={total_marks} percentage={per}')\n",
    "elif(per>=33):\n",
    "     print('GRADE - c')\n",
    "     print(f'hi={h} eng={e} math={m} science={s} social={so} total_marks={total_marks} percentage={per}')\n",
    "else:\n",
    "    print('fail')\n",
    "\n"
   ]
  }
 ],
 "metadata": {
  "kernelspec": {
   "display_name": "Python 3",
   "language": "python",
   "name": "python3"
  },
  "language_info": {
   "codemirror_mode": {
    "name": "ipython",
    "version": 3
   },
   "file_extension": ".py",
   "mimetype": "text/x-python",
   "name": "python",
   "nbconvert_exporter": "python",
   "pygments_lexer": "ipython3",
   "version": "3.13.7"
  }
 },
 "nbformat": 4,
 "nbformat_minor": 5
}
