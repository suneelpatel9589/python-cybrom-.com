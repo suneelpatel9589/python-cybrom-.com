{
 "cells": [
  {
   "cell_type": "markdown",
   "id": "36d200bf",
   "metadata": {},
   "source": [
    "Control Structure Statement is also called as loop\n",
    "--------------------------------------------------\n",
    "\n",
    "1. While Loop -> in this we nothing to know about condition we use while loop\n",
    "2. For Loop -> when we know all condition we always prefer for loop\n",
    "\n",
    "----------------------------------------------------------------------\n",
    "\n",
    "syntax of while loop -> \n",
    "\n",
    "initialization \n",
    "\n",
    "while(condition)\n",
    "{\n",
    "    statement1\n",
    "    statement2\n",
    "    statement.........\n",
    "\n",
    "    increment/ decrement  // here there is no preincrement and postincrement\n",
    "}"
   ]
  },
  {
   "cell_type": "code",
   "execution_count": 2,
   "id": "50f9d7d2",
   "metadata": {},
   "outputs": [
    {
     "name": "stdout",
     "output_type": "stream",
     "text": [
      "Krish Gupta\n",
      "the value of i=1\n",
      "Krish Gupta\n",
      "the value of i=2\n",
      "Krish Gupta\n",
      "the value of i=3\n",
      "Krish Gupta\n",
      "the value of i=4\n",
      "Krish Gupta\n",
      "the value of i=5\n",
      "Krish Gupta\n",
      "the value of i=6\n",
      "Krish Gupta\n",
      "the value of i=7\n",
      "Krish Gupta\n",
      "the value of i=8\n",
      "Krish Gupta\n",
      "the value of i=9\n",
      "Krish Gupta\n",
      "the value of i=10\n"
     ]
    }
   ],
   "source": [
    "i = 1\n",
    "while(i<=10):\n",
    "    print(\"Krish Gupta\")\n",
    "    print(f\"the value of i={i}\")\n",
    "    i+=1"
   ]
  },
  {
   "cell_type": "code",
   "execution_count": null,
   "id": "736ee2cc",
   "metadata": {},
   "outputs": [
    {
     "name": "stdout",
     "output_type": "stream",
     "text": [
      "55\n"
     ]
    }
   ],
   "source": [
    "# While loop\n",
    "\n",
    "n = int(input(\"Enter the number: \"))\n",
    "i=1\n",
    "ans = 0\n",
    "while(i<=n):\n",
    "    ans=ans+i\n",
    "    i=i+1\n",
    "print(ans)"
   ]
  },
  {
   "cell_type": "code",
   "execution_count": 2,
   "id": "dfef324d",
   "metadata": {},
   "outputs": [
    {
     "name": "stdout",
     "output_type": "stream",
     "text": [
      "120\n"
     ]
    }
   ],
   "source": [
    "#factorial \n",
    "\n",
    "n = int(input(\"Enter the number: \"))\n",
    "i=1\n",
    "ans = 1\n",
    "while(i<=n):\n",
    "    ans=ans*i\n",
    "    i=i+1\n",
    "print(ans)"
   ]
  },
  {
   "cell_type": "code",
   "execution_count": 1,
   "id": "0c516b9b",
   "metadata": {},
   "outputs": [
    {
     "name": "stdout",
     "output_type": "stream",
     "text": [
      "5 * 1 = 5\n",
      "5 * 2 = 10\n",
      "5 * 3 = 15\n",
      "5 * 4 = 20\n",
      "5 * 5 = 25\n",
      "5 * 6 = 30\n",
      "5 * 7 = 35\n",
      "5 * 8 = 40\n",
      "5 * 9 = 45\n",
      "5 * 10 = 50\n"
     ]
    }
   ],
   "source": [
    "# to print the table\n",
    "\n",
    "n=int(input(\"Enter the number\"))\n",
    "i=1\n",
    "while(i<=10):\n",
    "    print(f\"{n} * {i} = {n*i}\")\n",
    "    i+=1"
   ]
  },
  {
   "cell_type": "code",
   "execution_count": 4,
   "id": "8435f459",
   "metadata": {},
   "outputs": [
    {
     "name": "stdout",
     "output_type": "stream",
     "text": [
      "Not Prime\n"
     ]
    }
   ],
   "source": [
    "# WAP to check a prime no.\n",
    "\n",
    "n=int(input(\"Enter the number\"))\n",
    "count=0\n",
    "i=1\n",
    "while(i<=n):\n",
    "    if(n%i==0):\n",
    "        count+=1\n",
    "    i+=1\n",
    "if(count==2):\n",
    "    print(\"Prime\")\n",
    "else:\n",
    "    print(\"Not Prime\")"
   ]
  },
  {
   "cell_type": "code",
   "execution_count": 15,
   "id": "1f7f0731",
   "metadata": {},
   "outputs": [
    {
     "name": "stdout",
     "output_type": "stream",
     "text": [
      "0\n",
      "1\n",
      "1\n",
      "2\n",
      "3\n"
     ]
    }
   ],
   "source": [
    "# WAP to print fibbonaci series\n",
    "# 0,1,1,2,3,5,8,13,21,................\n",
    "\n",
    "n = int(input(\"Enter the number\"))\n",
    "i=1\n",
    "a=-1\n",
    "b=1\n",
    "while(i<=n):\n",
    "    c=a+b\n",
    "    print(c)\n",
    "    a=b\n",
    "    b=c\n",
    "    i+=1"
   ]
  },
  {
   "cell_type": "code",
   "execution_count": 1,
   "id": "c8d32f49",
   "metadata": {},
   "outputs": [
    {
     "name": "stdout",
     "output_type": "stream",
     "text": [
      "Reverse= 8987\n"
     ]
    }
   ],
   "source": [
    "# WAP to reverse a no.\n",
    "\n",
    "n=int(input(\"Enter a number\"))\n",
    "ans=0\n",
    "if(n<0 or n==0):\n",
    "    print(\"Please enter the positive number\")\n",
    "else:\n",
    "    while(n>0):\n",
    "        r=n%10\n",
    "        ans=ans*10+r\n",
    "        n=n//10\n",
    "print(\"Reverse=\",ans)"
   ]
  },
  {
   "cell_type": "code",
   "execution_count": 4,
   "id": "da21eb4f",
   "metadata": {},
   "outputs": [
    {
     "name": "stdout",
     "output_type": "stream",
     "text": [
      "Reverse= 321\n",
      "0\n",
      "123\n",
      "Not Palendrome=321\n"
     ]
    }
   ],
   "source": [
    "# WAP to check the palendrome number\n",
    "\n",
    "n=int(input(\"Rnter a number\"))\n",
    "ans=0\n",
    "m=n\n",
    "if(n<0 or n==0):\n",
    "    print(\"Please enter the positive number\")\n",
    "else:\n",
    "    while(n>0):\n",
    "        r=n%10\n",
    "        ans=ans*10+r\n",
    "        n=n//10\n",
    "print(\"Reverse=\",ans)\n",
    "print(n)\n",
    "print(m)\n",
    "if(m==ans):\n",
    "    print(f\"Palendrome={ans}\")\n",
    "else:\n",
    "    print(f\"Not Palendrome={ans}\")"
   ]
  },
  {
   "cell_type": "code",
   "execution_count": 14,
   "id": "a7a7a0c4",
   "metadata": {},
   "outputs": [
    {
     "name": "stdout",
     "output_type": "stream",
     "text": [
      "armstrong\n"
     ]
    }
   ],
   "source": [
    "# WAP to check number is armstrong or not\n",
    "\n",
    "n=input(\"Enter a number\")\n",
    "x=len(n)\n",
    "# print(x)\n",
    "n1=int(n)\n",
    "m=n1\n",
    "ans=0\n",
    "if(n1<0 or n1==0):\n",
    "    print(\"Please enter the positive number\")\n",
    "else:\n",
    "    while(n1>0):\n",
    "        r=n1%10\n",
    "        ans=ans+r**x\n",
    "        n1=n1//10\n",
    "if(ans==m):\n",
    "    print(\"armstrong\")\n",
    "else:\n",
    "    print(\"not armstrong\")"
   ]
  },
  {
   "cell_type": "code",
   "execution_count": null,
   "id": "0928f537",
   "metadata": {},
   "outputs": [],
   "source": []
  }
 ],
 "metadata": {
  "kernelspec": {
   "display_name": "Python 3",
   "language": "python",
   "name": "python3"
  },
  "language_info": {
   "codemirror_mode": {
    "name": "ipython",
    "version": 3
   },
   "file_extension": ".py",
   "mimetype": "text/x-python",
   "name": "python",
   "nbconvert_exporter": "python",
   "pygments_lexer": "ipython3",
   "version": "3.13.7"
  }
 },
 "nbformat": 4,
 "nbformat_minor": 5
}
