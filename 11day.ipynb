{
 "cells": [
  {
   "cell_type": "markdown",
   "id": "17ba5412",
   "metadata": {},
   "source": [
    " Q.1 Write a Python program to find the extra character present in one string compared to another using ASCII values.\n",
    " ऐसा Python प्रोग्राम लिखिए जो दो strings में से यह पता लगाए कि दूसरे string में कौन-सा अतिरिक्त (extra) character मौजूद है,"
   ]
  },
  {
   "cell_type": "code",
   "execution_count": 26,
   "id": "f87723f5",
   "metadata": {},
   "outputs": [
    {
     "name": "stdout",
     "output_type": "stream",
     "text": [
      "97\n"
     ]
    }
   ],
   "source": [
    "str2 =\"hello\"\n",
    "str1= \"helloa\"\n",
    "sum1 = 0\n",
    "sum2 = 0\n",
    "for j in str2:\n",
    "    sum1 = sum1+ord(j)\n",
    "\n",
    "for i in str1:  \n",
    "    sum2 = sum2+ord(i)\n",
    "\n",
    "print(sum2-sum1)   "
   ]
  },
  {
   "cell_type": "markdown",
   "id": "3ae5e578",
   "metadata": {},
   "source": [
    "Q.2 Write a Python program to find and print all characters from the English alphabet whose ASCII value is a palindrome number.\n",
    "ऐसा Python प्रोग्राम लिखिए जो यह बताए कि अंग्रेज़ी वर्णमाला (a–z) में कौन-कौन से अक्षरों के ASCII कोड palindrome (पालिंड्रोम) हैं।\n"
   ]
  },
  {
   "cell_type": "code",
   "execution_count": 27,
   "id": "dd5fd830",
   "metadata": {},
   "outputs": [
    {
     "name": "stdout",
     "output_type": "stream",
     "text": [
      "palendrom= 99 character= c\n",
      "palendrom= 101 character= e\n",
      "palendrom= 111 character= o\n",
      "palendrom= 121 character= y\n"
     ]
    }
   ],
   "source": [
    "str1  = \"abcdefghijklmnopqrstuvwxyz\" \n",
    "for i in str1:\n",
    "    temp = ord(i)\n",
    "    n1 =temp\n",
    "    rev = 0\n",
    "    while(temp>0):\n",
    "        r = temp%10\n",
    "        rev = rev*10+r\n",
    "        temp = temp//10\n",
    "    if(rev==n1):\n",
    "        print(\"palendrom=\",rev , \"character=\",i) \n",
    "        \n",
    "  \n",
    " "
   ]
  },
  {
   "cell_type": "code",
   "execution_count": null,
   "id": "e36d4e95",
   "metadata": {},
   "outputs": [],
   "source": [
    "str1  = input('enter a string:')\n",
    "for i in str1:\n",
    "    temp = ord(i)\n",
    "    n1 =temp\n",
    "    rev = 0\n",
    "    while(temp>0):\n",
    "        r = temp%10\n",
    "        rev = rev*10+r\n",
    "        temp = temp//10\n",
    "    if(rev==n1):\n",
    "        print(\"palendrom=\",rev , \"character=\",i) \n",
    "    "
   ]
  },
  {
   "cell_type": "markdown",
   "id": "f566cfde",
   "metadata": {},
   "source": [
    "Write a Python program to find and print all characters from the English alphabet whose ASCII value is a Prime number."
   ]
  },
  {
   "cell_type": "code",
   "execution_count": null,
   "id": "1afdfa1f",
   "metadata": {},
   "outputs": [],
   "source": [
    "str1 = input('enter the string')\n",
    "for i in str1:\n",
    "    temp=ord(i)\n",
    "    i=1\n",
    "    count= 0\n",
    "    while(i<=temp):\n",
    "        if(temp%i==0):\n",
    "            count+=1\n",
    "        i+=1\n",
    "    if(count==2):\n",
    "        print(temp,'prime')  \n",
    "    else:\n",
    "        print(temp, 'not prime')          \n"
   ]
  }
 ],
 "metadata": {
  "kernelspec": {
   "display_name": "Python 3",
   "language": "python",
   "name": "python3"
  },
  "language_info": {
   "codemirror_mode": {
    "name": "ipython",
    "version": 3
   },
   "file_extension": ".py",
   "mimetype": "text/x-python",
   "name": "python",
   "nbconvert_exporter": "python",
   "pygments_lexer": "ipython3",
   "version": "3.13.8"
  }
 },
 "nbformat": 4,
 "nbformat_minor": 5
}
