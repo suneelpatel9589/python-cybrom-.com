{
 "cells": [
  {
   "cell_type": "markdown",
   "id": "3bf5e660",
   "metadata": {},
   "source": [
    "wap a program to find user can do  eligible  for voting or not"
   ]
  },
  {
   "cell_type": "code",
   "execution_count": 10,
   "id": "48d8b661",
   "metadata": {},
   "outputs": [
    {
     "name": "stdout",
     "output_type": "stream",
     "text": [
      "eligble for vote\n"
     ]
    }
   ],
   "source": [
    "age = int(input('enter your age'))\n",
    "if(age>=18):\n",
    "    print(\"eligble for vote\")\n",
    "else:\n",
    "    print('not eligble')\n",
    " "
   ]
  },
  {
   "cell_type": "markdown",
   "id": "c77dc09c",
   "metadata": {},
   "source": [
    "wap to show the week of a day if value is  0-sunday,1-monday,2-tuesday,3-wednesday,etc else wrong day"
   ]
  },
  {
   "cell_type": "code",
   "execution_count": 16,
   "id": "c790166c",
   "metadata": {},
   "outputs": [
    {
     "name": "stdout",
     "output_type": "stream",
     "text": [
      "saturday\n"
     ]
    }
   ],
   "source": [
    "day = int(input('enter the days in 0 -6'))\n",
    "if(day==0):\n",
    "    print('sunday')\n",
    "else:\n",
    "   if(day==1):\n",
    "       print('monday')\n",
    "\n",
    "   else:\n",
    "       if(day==2):\n",
    "           print('tuesday')\n",
    "       else:\n",
    "           if(day==3):\n",
    "               print('wednesday')\n",
    "           else:\n",
    "               if(day==4):\n",
    "                   print('thursday')\n",
    "               else:\n",
    "                   if(day==5):\n",
    "                       print('friday')\n",
    "                   else:\n",
    "                       if(day==6):\n",
    "                           print('saturday')\n",
    "                       else:\n",
    "                           print('sunday')\n",
    " \n",
    "\n"
   ]
  },
  {
   "cell_type": "code",
   "execution_count": 26,
   "id": "95aca7ca",
   "metadata": {},
   "outputs": [
    {
     "name": "stdout",
     "output_type": "stream",
     "text": [
      "monday\n"
     ]
    }
   ],
   "source": [
    "day = int(input('enter the days in 0 -6'))\n",
    "if(day==0):\n",
    " print('sunday')\n",
    "elif(day==1):\n",
    " print('monday')\n",
    "elif(day==2):\n",
    " print('tuesday')\n",
    "elif(day==3):\n",
    "    print('wednesday')\n",
    "elif(day==4):\n",
    " print('thursday')\n",
    "elif(day==5):\n",
    "    print('friday')\n",
    "elif(day==6):\n",
    " print('saturday')\n",
    "else:\n",
    " print('invaild days')\n",
    " "
   ]
  },
  {
   "cell_type": "markdown",
   "id": "19b5bef1",
   "metadata": {},
   "source": [
    "logical operator in python:--\n",
    "--------------------------\n",
    "1.logical and operator (and)\n",
    "2.logical or operator (or)\n",
    "3.logical not operator (not)\n",
    "--------------------------------------------------------------------------------------------------------------------------------\n",
    "condn1                       condn2                            cond1 and condn2                              condn1 or  condn2 - \n",
    "--------------------------------------------------------------------------------------------------------------------------------\n",
    "true                          false                                false                                         true\n",
    "true                          true                                 true                                          true\n",
    "false                         true                                 false                                         true\n",
    "false                         false                                false                                         false\n",
    "\n",
    "--------------------------------------------------------------------------------------------------------------------------------\n",
    "not operator(not):--\n",
    "-----------------\n",
    "true------>false\n",
    "false----->true\n",
    "\n"
   ]
  },
  {
   "cell_type": "code",
   "execution_count": 6,
   "id": "84a90a02",
   "metadata": {},
   "outputs": [
    {
     "name": "stdout",
     "output_type": "stream",
     "text": [
      "invaild color0\n"
     ]
    }
   ],
   "source": [
    "red = int(input('enter a color'))\n",
    "\n",
    "if(red==1):\n",
    "    print('yellow')\n",
    "elif(red==2):\n",
    "    print('pink')\n",
    "else:\n",
    "    print('invaild color' \\\n",
    "    '0')\n"
   ]
  }
 ],
 "metadata": {
  "kernelspec": {
   "display_name": "Python 3",
   "language": "python",
   "name": "python3"
  },
  "language_info": {
   "codemirror_mode": {
    "name": "ipython",
    "version": 3
   },
   "file_extension": ".py",
   "mimetype": "text/x-python",
   "name": "python",
   "nbconvert_exporter": "python",
   "pygments_lexer": "ipython3",
   "version": "3.13.7"
  }
 },
 "nbformat": 4,
 "nbformat_minor": 5
}
